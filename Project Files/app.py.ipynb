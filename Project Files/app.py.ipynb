{
 "cells": [
  {
   "cell_type": "code",
   "execution_count": 2,
   "id": "2b25984e",
   "metadata": {},
   "outputs": [
    {
     "name": "stdout",
     "output_type": "stream",
     "text": [
      " * Serving Flask app '__main__'\n",
      " * Debug mode: on\n"
     ]
    },
    {
     "name": "stderr",
     "output_type": "stream",
     "text": [
      "WARNING: This is a development server. Do not use it in a production deployment. Use a production WSGI server instead.\n",
      " * Running on http://127.0.0.1:8000\n",
      "Press CTRL+C to quit\n",
      " * Restarting with watchdog (windowsapi)\n"
     ]
    },
    {
     "ename": "SystemExit",
     "evalue": "1",
     "output_type": "error",
     "traceback": [
      "An exception has occurred, use %tb to see the full traceback.\n",
      "\u001b[1;31mSystemExit\u001b[0m\u001b[1;31m:\u001b[0m 1\n"
     ]
    }
   ],
   "source": [
    "import re\n",
    "import numpy as np\n",
    "import os\n",
    "from flask import Flask, app,request,render_template\n",
    "from tensorflow.keras import models\n",
    "from tensorflow.keras.models import load_model\n",
    "from tensorflow.keras.preprocessing import image\n",
    "from tensorflow.python.ops.gen_array_ops import concat\n",
    "\n",
    "#Loading the model\n",
    "model=load_model(\"Garbage1.h5\")\n",
    "app=Flask(__name__)\n",
    "\n",
    "\n",
    "#default home page or route\n",
    "@app.route('/')\n",
    "def index():\n",
    "    return render_template('index.html')\n",
    "\n",
    "@app.route('/prediction.html')\n",
    "def prediction():\n",
    "    return render_template('prediction.html')\n",
    "\n",
    "@app.route('/index.html')\n",
    "def home():\n",
    "    return render_template(\"index.html\")\n",
    "\n",
    "@app.route('/result',methods=[\"GET\",\"POST\"])\n",
    "def res():\n",
    "    if request.method==\"POST\":\n",
    "        f=request.files['image']\n",
    "        basepath=os.path.dirname(__file__) #getting the current path i.e where app.py is present\n",
    "        #print(\"current path\",basepath)\n",
    "        filepath=os.path.join(basepath,'uploads',f.filename) #from anywhere in the system we can give image but we want that image later  to process so we are saving it to uploads folder for reusing\n",
    "        #print(\"upload folder is\",filepath)\n",
    "        f.save(filepath)\n",
    "\n",
    "        img=image.load_img(filepath,target_size=(128,128))\n",
    "        x=image.img_to_array(img)#img to array\n",
    "        x=np.expand_dims(x,axis=0)#used for adding one more dimension\n",
    "        #print(x)\n",
    "        prediction=np.argmax(model.predict(x), axis =1) #instead of predict_classes(x) we can use predict(X) ---->predict_classes(x) gave error\n",
    "        #print(\"prediction is \",prediction)\n",
    "        index=[\"cardboard\",\"glass\",\"metal\",\"paper\",\"plastic\",\"trash\"]\n",
    "        result = index[prediction[0].item()]\n",
    "        result\n",
    "        return render_template('prediction.html',prediction=result)\n",
    "\n",
    "\n",
    "\"\"\" Running our application \"\"\"\n",
    "if __name__ == \"__main__\":\n",
    "    app.run(debug=True,port=8000)"
   ]
  },
  {
   "cell_type": "code",
   "execution_count": null,
   "id": "f2ccd20c",
   "metadata": {},
   "outputs": [],
   "source": []
  }
 ],
 "metadata": {
  "kernelspec": {
   "display_name": "Python 3 (ipykernel)",
   "language": "python",
   "name": "python3"
  },
  "language_info": {
   "codemirror_mode": {
    "name": "ipython",
    "version": 3
   },
   "file_extension": ".py",
   "mimetype": "text/x-python",
   "name": "python",
   "nbconvert_exporter": "python",
   "pygments_lexer": "ipython3",
   "version": "3.11.3"
  }
 },
 "nbformat": 4,
 "nbformat_minor": 5
}
