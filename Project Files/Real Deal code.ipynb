{
 "cells": [
  {
   "cell_type": "code",
   "execution_count": 1,
   "id": "a267e381",
   "metadata": {
    "scrolled": true
   },
   "outputs": [
    {
     "name": "stdout",
     "output_type": "stream",
     "text": [
      "Found 2527 images belonging to 6 classes.\n",
      "Found 2527 images belonging to 6 classes.\n"
     ]
    }
   ],
   "source": [
    "from tensorflow.keras.preprocessing.image import ImageDataGenerator\n",
    "\n",
    "# Create an ImageDataGenerator object for the train dataset\n",
    "train_datagen = ImageDataGenerator(\n",
    "    rescale=1./255,\n",
    "    shear_range=0.1,\n",
    "    zoom_range=0.1,\n",
    "    horizontal_flip=True\n",
    ")\n",
    "val_datagen = ImageDataGenerator(rescale = 1./255)\n",
    "\n",
    "# Generate augmented images for the train dataset\n",
    "train_transform = train_datagen.flow_from_directory(\n",
    "    r\"C:\\Users\\Mithi\\OneDrive\\Desktop\\Training set\",\n",
    "    target_size=(128,128),\n",
    "    batch_size=64,\n",
    "    class_mode='categorical'\n",
    ")\n",
    "\n",
    "test_transform = val_datagen.flow_from_directory(r\"C:\\Users\\Mithi\\OneDrive\\Desktop\\Testing set\",\n",
    "                                                target_size=(128,128),\n",
    "                                                batch_size=64,\n",
    "                                                class_mode='categorical')\n"
   ]
  },
  {
   "cell_type": "code",
   "execution_count": 2,
   "id": "bf53a3ad",
   "metadata": {},
   "outputs": [],
   "source": [
    "from tensorflow.keras.models import Sequential\n",
    "from tensorflow.keras.layers import Dense\n",
    "from tensorflow.keras.layers import Convolution2D\n",
    "from tensorflow.keras.layers import MaxPooling2D\n",
    "from tensorflow.keras.layers import Flatten \n",
    "from tensorflow.keras.optimizers import Adam"
   ]
  },
  {
   "cell_type": "code",
   "execution_count": 3,
   "id": "3da90f99",
   "metadata": {},
   "outputs": [],
   "source": [
    "model=Sequential()"
   ]
  },
  {
   "cell_type": "code",
   "execution_count": 4,
   "id": "c85f9a0e",
   "metadata": {},
   "outputs": [],
   "source": [
    "model.add(Convolution2D(32,(3,3),input_shape=(128,128,3),activation='relu'))\n",
    "model.add(MaxPooling2D(2,2))"
   ]
  },
  {
   "cell_type": "code",
   "execution_count": 5,
   "id": "89a8ba44",
   "metadata": {},
   "outputs": [],
   "source": [
    "model.add(Convolution2D(64,(3,3),padding='same',activation='relu'))\n",
    "model.add(MaxPooling2D(pool_size=2))"
   ]
  },
  {
   "cell_type": "code",
   "execution_count": 6,
   "id": "6a65a55f",
   "metadata": {},
   "outputs": [],
   "source": [
    "model.add(Flatten())"
   ]
  },
  {
   "cell_type": "code",
   "execution_count": 7,
   "id": "ce25d159",
   "metadata": {},
   "outputs": [],
   "source": [
    "model.add(Dense(kernel_initializer='uniform',activation='relu',units=150))"
   ]
  },
  {
   "cell_type": "code",
   "execution_count": 8,
   "id": "7b67caed",
   "metadata": {},
   "outputs": [],
   "source": [
    "model.add(Dense(kernel_initializer='uniform',activation='relu',units=68))"
   ]
  },
  {
   "cell_type": "code",
   "execution_count": 9,
   "id": "d861390d",
   "metadata": {},
   "outputs": [],
   "source": [
    "model.compile(loss='categorical_crossentropy',optimizer='adam',metrics=['acc'])"
   ]
  },
  {
   "cell_type": "code",
   "execution_count": 10,
   "id": "251623d9",
   "metadata": {},
   "outputs": [],
   "source": [
    "from tensorflow.keras.models import Sequential\n",
    "from tensorflow.keras.layers import Dense\n",
    "from tensorflow.keras.layers import Convolution2D\n",
    "from tensorflow.keras.layers import MaxPooling2D\n",
    "from tensorflow.keras.layers import Flatten\n",
    "from tensorflow.keras.optimizers import Adam"
   ]
  },
  {
   "cell_type": "code",
   "execution_count": 11,
   "id": "089358d9",
   "metadata": {},
   "outputs": [],
   "source": [
    "model=Sequential()"
   ]
  },
  {
   "cell_type": "code",
   "execution_count": 12,
   "id": "ffbdc889",
   "metadata": {},
   "outputs": [],
   "source": [
    "model.add(Convolution2D(32,(3,3),input_shape=(128,128,3),activation='relu'))"
   ]
  },
  {
   "cell_type": "code",
   "execution_count": 13,
   "id": "32d8ea10",
   "metadata": {
    "scrolled": true
   },
   "outputs": [],
   "source": [
    "model.add(MaxPooling2D(2,2))"
   ]
  },
  {
   "cell_type": "code",
   "execution_count": 14,
   "id": "b0464843",
   "metadata": {},
   "outputs": [],
   "source": [
    "model.add(Convolution2D(64,(3,3),padding='same',activation='relu'))\n",
    "model.add(MaxPooling2D(pool_size=2))"
   ]
  },
  {
   "cell_type": "code",
   "execution_count": 15,
   "id": "8f644253",
   "metadata": {},
   "outputs": [],
   "source": [
    "model.add(Convolution2D(32,(3,3),activation='relu'))\n",
    "model.add(MaxPooling2D(pool_size=2))"
   ]
  },
  {
   "cell_type": "code",
   "execution_count": 16,
   "id": "d3d7d897",
   "metadata": {},
   "outputs": [],
   "source": [
    "model.add(Flatten())"
   ]
  },
  {
   "cell_type": "code",
   "execution_count": 17,
   "id": "d8271212",
   "metadata": {},
   "outputs": [],
   "source": [
    "model.add(Dense(kernel_initializer='uniform',activation='relu',units=150))\n",
    "model.add(Dense(kernel_initializer='uniform',activation='relu',units=68))\n",
    "model.add(Dense(kernel_initializer='uniform',activation='softmax',units=6))"
   ]
  },
  {
   "cell_type": "code",
   "execution_count": 20,
   "id": "1d3961a4",
   "metadata": {},
   "outputs": [
    {
     "name": "stdout",
     "output_type": "stream",
     "text": [
      "Model: \"sequential_1\"\n",
      "_________________________________________________________________\n",
      " Layer (type)                Output Shape              Param #   \n",
      "=================================================================\n",
      " conv2d_2 (Conv2D)           (None, 126, 126, 32)      896       \n",
      "                                                                 \n",
      " max_pooling2d_2 (MaxPoolin  (None, 63, 63, 32)        0         \n",
      " g2D)                                                            \n",
      "                                                                 \n",
      " conv2d_3 (Conv2D)           (None, 63, 63, 64)        18496     \n",
      "                                                                 \n",
      " max_pooling2d_3 (MaxPoolin  (None, 31, 31, 64)        0         \n",
      " g2D)                                                            \n",
      "                                                                 \n",
      " conv2d_4 (Conv2D)           (None, 29, 29, 32)        18464     \n",
      "                                                                 \n",
      " max_pooling2d_4 (MaxPoolin  (None, 14, 14, 32)        0         \n",
      " g2D)                                                            \n",
      "                                                                 \n",
      " flatten_1 (Flatten)         (None, 6272)              0         \n",
      "                                                                 \n",
      " dense_2 (Dense)             (None, 150)               940950    \n",
      "                                                                 \n",
      " dense_3 (Dense)             (None, 68)                10268     \n",
      "                                                                 \n",
      " dense_4 (Dense)             (None, 6)                 414       \n",
      "                                                                 \n",
      "=================================================================\n",
      "Total params: 989488 (3.77 MB)\n",
      "Trainable params: 989488 (3.77 MB)\n",
      "Non-trainable params: 0 (0.00 Byte)\n",
      "_________________________________________________________________\n"
     ]
    }
   ],
   "source": [
    "model.summary()"
   ]
  },
  {
   "cell_type": "code",
   "execution_count": 18,
   "id": "6c5b34af",
   "metadata": {},
   "outputs": [],
   "source": [
    "model.compile(loss='categorical_crossentropy',optimizer='adam',metrics=['acc'])"
   ]
  },
  {
   "cell_type": "code",
   "execution_count": 19,
   "id": "f55bf819",
   "metadata": {},
   "outputs": [
    {
     "name": "stderr",
     "output_type": "stream",
     "text": [
      "C:\\Users\\Mithi\\AppData\\Local\\Temp\\ipykernel_13148\\2371309565.py:1: UserWarning: `Model.fit_generator` is deprecated and will be removed in a future version. Please use `Model.fit`, which supports generators.\n",
      "  res=model.fit_generator(train_transform,steps_per_epoch=2527//64,validation_steps=782//64,epochs=30,validation_data=test_transform)\n"
     ]
    },
    {
     "name": "stdout",
     "output_type": "stream",
     "text": [
      "Epoch 1/30\n",
      "39/39 [==============================] - 68s 2s/step - loss: 1.7357 - acc: 0.2266 - val_loss: 1.7164 - val_acc: 0.2552\n",
      "Epoch 2/30\n",
      "39/39 [==============================] - 66s 2s/step - loss: 1.6530 - acc: 0.2655 - val_loss: 1.5483 - val_acc: 0.3620\n",
      "Epoch 3/30\n",
      "39/39 [==============================] - 72s 2s/step - loss: 1.4399 - acc: 0.3902 - val_loss: 1.4484 - val_acc: 0.4089\n",
      "Epoch 4/30\n",
      "39/39 [==============================] - 71s 2s/step - loss: 1.3434 - acc: 0.4279 - val_loss: 1.4018 - val_acc: 0.4193\n",
      "Epoch 5/30\n",
      "39/39 [==============================] - 174s 5s/step - loss: 1.2765 - acc: 0.4795 - val_loss: 1.3475 - val_acc: 0.4714\n",
      "Epoch 6/30\n",
      "39/39 [==============================] - 194s 5s/step - loss: 1.1916 - acc: 0.5294 - val_loss: 1.1794 - val_acc: 0.5169\n",
      "Epoch 7/30\n",
      "39/39 [==============================] - 192s 5s/step - loss: 1.1196 - acc: 0.5627 - val_loss: 1.0637 - val_acc: 0.5964\n",
      "Epoch 8/30\n",
      "39/39 [==============================] - 196s 5s/step - loss: 1.0537 - acc: 0.5944 - val_loss: 1.0504 - val_acc: 0.6055\n",
      "Epoch 9/30\n",
      "39/39 [==============================] - 204s 5s/step - loss: 0.9752 - acc: 0.6334 - val_loss: 1.0332 - val_acc: 0.5951\n",
      "Epoch 10/30\n",
      "39/39 [==============================] - 206s 5s/step - loss: 0.9716 - acc: 0.6305 - val_loss: 0.9240 - val_acc: 0.6458\n",
      "Epoch 11/30\n",
      "39/39 [==============================] - 280s 7s/step - loss: 0.9009 - acc: 0.6573 - val_loss: 0.8821 - val_acc: 0.6589\n",
      "Epoch 12/30\n",
      "39/39 [==============================] - 353s 9s/step - loss: 0.8603 - acc: 0.6695 - val_loss: 0.8448 - val_acc: 0.6719\n",
      "Epoch 13/30\n",
      "39/39 [==============================] - 201s 5s/step - loss: 0.8212 - acc: 0.6857 - val_loss: 0.8354 - val_acc: 0.6953\n",
      "Epoch 14/30\n",
      "39/39 [==============================] - 201s 5s/step - loss: 0.7664 - acc: 0.7170 - val_loss: 0.7179 - val_acc: 0.7448\n",
      "Epoch 15/30\n",
      "39/39 [==============================] - 198s 5s/step - loss: 0.7836 - acc: 0.7065 - val_loss: 0.8819 - val_acc: 0.6641\n",
      "Epoch 16/30\n",
      "39/39 [==============================] - 190s 5s/step - loss: 0.7330 - acc: 0.7235 - val_loss: 0.5993 - val_acc: 0.7956\n",
      "Epoch 17/30\n",
      "39/39 [==============================] - 196s 5s/step - loss: 0.6561 - acc: 0.7588 - val_loss: 0.6040 - val_acc: 0.7812\n",
      "Epoch 18/30\n",
      "39/39 [==============================] - 198s 5s/step - loss: 0.6642 - acc: 0.7523 - val_loss: 0.6337 - val_acc: 0.7747\n",
      "Epoch 19/30\n",
      "39/39 [==============================] - 197s 5s/step - loss: 0.6221 - acc: 0.7730 - val_loss: 0.6023 - val_acc: 0.7747\n",
      "Epoch 20/30\n",
      "39/39 [==============================] - 200s 5s/step - loss: 0.5846 - acc: 0.7881 - val_loss: 0.4678 - val_acc: 0.8307\n",
      "Epoch 21/30\n",
      "39/39 [==============================] - 198s 5s/step - loss: 0.5451 - acc: 0.8027 - val_loss: 0.5153 - val_acc: 0.8099\n",
      "Epoch 22/30\n",
      "39/39 [==============================] - 194s 5s/step - loss: 0.5658 - acc: 0.7974 - val_loss: 0.6047 - val_acc: 0.7721\n",
      "Epoch 23/30\n",
      "39/39 [==============================] - 197s 5s/step - loss: 0.5503 - acc: 0.8080 - val_loss: 0.5281 - val_acc: 0.8112\n",
      "Epoch 24/30\n",
      "39/39 [==============================] - 199s 5s/step - loss: 0.4439 - acc: 0.8437 - val_loss: 0.3701 - val_acc: 0.8633\n",
      "Epoch 25/30\n",
      "39/39 [==============================] - 226s 6s/step - loss: 0.4106 - acc: 0.8514 - val_loss: 0.3698 - val_acc: 0.8581\n",
      "Epoch 26/30\n",
      "39/39 [==============================] - 234s 6s/step - loss: 0.4419 - acc: 0.8343 - val_loss: 0.4447 - val_acc: 0.8281\n",
      "Epoch 27/30\n",
      "39/39 [==============================] - 227s 6s/step - loss: 0.4448 - acc: 0.8465 - val_loss: 0.5882 - val_acc: 0.7917\n",
      "Epoch 28/30\n",
      "39/39 [==============================] - 232s 6s/step - loss: 0.4061 - acc: 0.8490 - val_loss: 0.3404 - val_acc: 0.8880\n",
      "Epoch 29/30\n",
      "39/39 [==============================] - 211s 5s/step - loss: 0.3467 - acc: 0.8721 - val_loss: 0.3065 - val_acc: 0.8893\n",
      "Epoch 30/30\n",
      "39/39 [==============================] - 289s 7s/step - loss: 0.3086 - acc: 0.8874 - val_loss: 0.2956 - val_acc: 0.8945\n"
     ]
    }
   ],
   "source": [
    "res=model.fit_generator(train_transform,steps_per_epoch=2527//64,validation_steps=782//64,epochs=30,validation_data=test_transform)"
   ]
  },
  {
   "cell_type": "code",
   "execution_count": 21,
   "id": "0cdca987",
   "metadata": {},
   "outputs": [
    {
     "name": "stderr",
     "output_type": "stream",
     "text": [
      "C:\\Users\\Mithi\\AppData\\Roaming\\Python\\Python311\\site-packages\\keras\\src\\engine\\training.py:3000: UserWarning: You are saving your model as an HDF5 file via `model.save()`. This file format is considered legacy. We recommend using instead the native Keras format, e.g. `model.save('my_model.keras')`.\n",
      "  saving_api.save_model(\n"
     ]
    }
   ],
   "source": [
    "model.save('Garbage1.h5')"
   ]
  },
  {
   "cell_type": "code",
   "execution_count": 22,
   "id": "f7419c53",
   "metadata": {},
   "outputs": [],
   "source": [
    "import numpy as np\n",
    "from tensorflow.keras.models import load_model\n",
    "from tensorflow.keras.preprocessing import image\n",
    "model = load_model(\"Garbage1.h5\")"
   ]
  },
  {
   "cell_type": "code",
   "execution_count": 23,
   "id": "8ab9ee37",
   "metadata": {},
   "outputs": [
    {
     "name": "stdout",
     "output_type": "stream",
     "text": [
      "1/1 [==============================] - 1s 766ms/step\n"
     ]
    },
    {
     "data": {
      "text/plain": [
       "'3'"
      ]
     },
     "execution_count": 23,
     "metadata": {},
     "output_type": "execute_result"
    }
   ],
   "source": [
    "img = image.load_img(r\"C:\\Users\\Mithi\\OneDrive\\Desktop\\Testing set\\glass\\glass1.jpg\",\n",
    "                     target_size=(128,128))\n",
    "x=image.img_to_array(img)\n",
    "x=np.expand_dims(x,axis=0)\n",
    "a=np.argmax(model.predict(x), axis=1)\n",
    "index=['0','1','2','3','4','5']\n",
    "result = str(index[a[0]])\n",
    "result"
   ]
  },
  {
   "cell_type": "code",
   "execution_count": 24,
   "id": "78493821",
   "metadata": {},
   "outputs": [
    {
     "data": {
      "text/plain": [
       "{'cardboard': 0, 'glass': 1, 'metal': 2, 'paper': 3, 'plastic': 4, 'trash': 5}"
      ]
     },
     "execution_count": 24,
     "metadata": {},
     "output_type": "execute_result"
    }
   ],
   "source": [
    "train_transform.class_indices"
   ]
  },
  {
   "cell_type": "code",
   "execution_count": 25,
   "id": "649aae29",
   "metadata": {},
   "outputs": [
    {
     "data": {
      "text/plain": [
       "'paper'"
      ]
     },
     "execution_count": 25,
     "metadata": {},
     "output_type": "execute_result"
    }
   ],
   "source": [
    "index1=['cardboard','glass','metal','paper','plastic','trash']\n",
    "result1=str(index1[a[0]])\n",
    "result1"
   ]
  },
  {
   "cell_type": "code",
   "execution_count": null,
   "id": "4cff4a71",
   "metadata": {},
   "outputs": [],
   "source": []
  }
 ],
 "metadata": {
  "kernelspec": {
   "display_name": "Python 3 (ipykernel)",
   "language": "python",
   "name": "python3"
  },
  "language_info": {
   "codemirror_mode": {
    "name": "ipython",
    "version": 3
   },
   "file_extension": ".py",
   "mimetype": "text/x-python",
   "name": "python",
   "nbconvert_exporter": "python",
   "pygments_lexer": "ipython3",
   "version": "3.11.3"
  }
 },
 "nbformat": 4,
 "nbformat_minor": 5
}
